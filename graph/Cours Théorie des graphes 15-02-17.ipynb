{
 "cells": [
  {
   "cell_type": "markdown",
   "metadata": {},
   "source": [
    "# Python graph"
   ]
  },
  {
   "cell_type": "markdown",
   "metadata": {},
   "source": [
    "## Une liste d'adjacence sera utilisée pour les graphes\n",
    "\n",
    "### chaque case d'un tableau contiendra les noeuds sur lesquels le noeud actuel pointe"
   ]
  },
  {
   "cell_type": "code",
   "execution_count": 4,
   "metadata": {
    "collapsed": true
   },
   "outputs": [],
   "source": [
    "edges = [[1,3],[0,2,5],[1],[0,4],[3,5],[1,4],[7],[6]]"
   ]
  },
  {
   "cell_type": "markdown",
   "metadata": {},
   "source": [
    "# DFS\n",
    "## algo recursif \n",
    "### On ignore les noeuds déjà visités"
   ]
  },
  {
   "cell_type": "code",
   "execution_count": 5,
   "metadata": {
    "collapsed": true
   },
   "outputs": [],
   "source": [
    "def DFS(adj):\n",
    "    n = len(adj)\n",
    "    seen = [False] * n\n",
    "    def rec(start):\n",
    "        print(start)\n",
    "        for y in adj[start]:\n",
    "            if not seen[y]:\n",
    "                seen[y] = True\n",
    "                rec(y)\n",
    "    for start in range(n):\n",
    "        if(not seen[start]):\n",
    "            seen[start] = True\n",
    "            rec(start)\n",
    "            "
   ]
  },
  {
   "cell_type": "code",
   "execution_count": 6,
   "metadata": {},
   "outputs": [
    {
     "name": "stdout",
     "output_type": "stream",
     "text": [
      "0\n",
      "1\n",
      "2\n",
      "5\n",
      "4\n",
      "3\n",
      "6\n",
      "7\n"
     ]
    }
   ],
   "source": [
    "DFS(edges)"
   ]
  },
  {
   "cell_type": "code",
   "execution_count": 9,
   "metadata": {},
   "outputs": [],
   "source": [
    "def DFSIter(adj):\n",
    "    n = len(adj)\n",
    "    seen = [False] * n\n",
    "    for start in range(n):\n",
    "        if seen[start]:\n",
    "            continue\n",
    "        stack = [(start, 0)]\n",
    "        while stack:\n",
    "            src, pos = stack.pop()\n",
    "            if pos == 0:\n",
    "                print(src)\n",
    "                seen[src] = True\n",
    "            if pos == len(adj[src]):\n",
    "                continue\n",
    "            stack.append((src,pos + 1))\n",
    "            succ  = adj[src][pos]\n",
    "            if not seen[succ]:\n",
    "                stack.append((succ,0))\n"
   ]
  },
  {
   "cell_type": "code",
   "execution_count": 10,
   "metadata": {},
   "outputs": [
    {
     "name": "stdout",
     "output_type": "stream",
     "text": [
      "0\n",
      "1\n",
      "2\n",
      "5\n",
      "4\n",
      "3\n",
      "6\n",
      "7\n"
     ]
    }
   ],
   "source": [
    "DFSIter(edges)"
   ]
  },
  {
   "cell_type": "markdown",
   "metadata": {},
   "source": [
    "# Breadth-First Search (BFS)\n",
    "## using a queue"
   ]
  },
  {
   "cell_type": "code",
   "execution_count": 38,
   "metadata": {},
   "outputs": [],
   "source": [
    "def BFS(adj):  # θ(1)\n",
    "    n = len(adj) # θ(|v|)\n",
    "    seen = [False] * n # θ(|v|)\n",
    "    for start in  range(n): # θ(|v|)\n",
    "        if seen[start]: # O(|v|)\n",
    "            continue # O(|v|)\n",
    "        q = [start] # O(|v|)\n",
    "        seen[start] = True # O(|v|)\n",
    "        while q: # θ(|v|)\n",
    "            src = q.pop() # θ(|v|)\n",
    "            print(src) # θ(|v|)\n",
    "            for dst in adj[src]: # θ(|E|)\n",
    "                if not seen[dst]: # θ(|E|)\n",
    "                    q.append(dst) # O(|E|)\n",
    "                    seen[dst] = True # O(|E|)            "
   ]
  },
  {
   "cell_type": "code",
   "execution_count": 39,
   "metadata": {},
   "outputs": [
    {
     "name": "stdout",
     "output_type": "stream",
     "text": [
      "0\n",
      "3\n",
      "4\n",
      "5\n",
      "1\n",
      "2\n",
      "6\n",
      "7\n"
     ]
    }
   ],
   "source": [
    "BFS(edges)"
   ]
  },
  {
   "cell_type": "markdown",
   "metadata": {},
   "source": [
    "## 1)\n",
    "### θ(|v|² + |E|) = O(|v|²)\n",
    "### |E| <= (2 pris parmi |v|)  = |v|*(|v| -1) / 2 < |v|²/2\n",
    "### |E| = O (|v|²)\n",
    "## 2) Sur un graphe Connexe\n",
    "### |E| >= |v| - 1\n",
    "### |E| = Ώ(|v|)   ------> sur un graphe convex\n",
    "## 3)\n",
    "### sum(deg(v)) = 2|E| = θ(|E|)"
   ]
  },
  {
   "cell_type": "markdown",
   "metadata": {},
   "source": [
    "# Map of Distance"
   ]
  },
  {
   "cell_type": "code",
   "execution_count": 60,
   "metadata": {},
   "outputs": [],
   "source": [
    "from collections import deque\n",
    "\n",
    "def distmap(adj, start):\n",
    "    n = len(adj) # θ(1)\n",
    "    dist = [None] * n #θ(|v|)\n",
    "    q = deque([start]) #θ(1)\n",
    "    dist[start] = 0 #θ(1)\n",
    "    while q: #O(|v|)\n",
    "        src = q.popleft() #O(|v|)\n",
    "        d = dist[src] #O(|v|)\n",
    "        for dst in adj[src]: #O(|E|)\n",
    "            if dist[dst] is None:#O(|E|)\n",
    "                dist[dst] = d + 1 #O(|E|)\n",
    "                q.append(dst)#O(|E|)\n",
    "    return dist #O(|E|) + #θ(|v|)"
   ]
  },
  {
   "cell_type": "code",
   "execution_count": 61,
   "metadata": {},
   "outputs": [
    {
     "data": {
      "text/plain": [
       "[0, 1, 2, 1, 2, 2, None, None]"
      ]
     },
     "execution_count": 61,
     "metadata": {},
     "output_type": "execute_result"
    }
   ],
   "source": [
    "distmap(edges, 0)"
   ]
  },
  {
   "cell_type": "markdown",
   "metadata": {},
   "source": [
    "# Dijkstra's algorithm\n",
    "## pseudo code"
   ]
  },
  {
   "cell_type": "raw",
   "metadata": {},
   "source": [
    "Dijkstra(G = (E,v,w), start):\n",
    "    ∀ v ∈ V, dist[v] = +inf\n",
    "    dist[start] = 0\n",
    "    h = [start]\n",
    "    while h:\n",
    "        src = h.popmin()\n",
    "        for dst ∈ sucessions(src):\n",
    "            d = dist[src] + w(src,dst)\n",
    "            old = dist[dst]\n",
    "            dist[dst]  = min(old, d)\n",
    "            if old = inf:\n",
    "                h.insert(dst)\n",
    "            else if old != dist[dst]:\n",
    "                h.update(dst)\n",
    "    return dist"
   ]
  },
  {
   "cell_type": "code",
   "execution_count": null,
   "metadata": {
    "collapsed": true
   },
   "outputs": [],
   "source": []
  }
 ],
 "metadata": {
  "kernelspec": {
   "display_name": "Python 3",
   "language": "python",
   "name": "python3"
  },
  "language_info": {
   "codemirror_mode": {
    "name": "ipython",
    "version": 3
   },
   "file_extension": ".py",
   "mimetype": "text/x-python",
   "name": "python",
   "nbconvert_exporter": "python",
   "pygments_lexer": "ipython3",
   "version": "3.5.4"
  }
 },
 "nbformat": 4,
 "nbformat_minor": 2
}
