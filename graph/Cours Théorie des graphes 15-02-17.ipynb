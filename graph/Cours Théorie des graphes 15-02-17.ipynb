{
 "cells": [
  {
   "cell_type": "markdown",
   "metadata": {},
   "source": [
    "# Python graph"
   ]
  },
  {
   "cell_type": "markdown",
   "metadata": {},
   "source": [
    "## Une liste d'adjacence sera utilisée pour les graphes\n",
    "\n",
    "### chaque case d'un tableau contiendra les noeuds sur lesquels le noeud actuel pointe"
   ]
  },
  {
   "cell_type": "code",
   "execution_count": 4,
   "metadata": {
    "collapsed": true
   },
   "outputs": [],
   "source": [
    "edges = [[1,3],[0,2,5],[1],[0,4],[3,5],[1,4],[7],[6]]"
   ]
  },
  {
   "cell_type": "markdown",
   "metadata": {},
   "source": [
    "# DFS\n",
    "## algo recursif \n",
    "### On ignore les noeuds déjà visités"
   ]
  },
  {
   "cell_type": "code",
   "execution_count": 5,
   "metadata": {
    "collapsed": true
   },
   "outputs": [],
   "source": [
    "def DFS(adj):\n",
    "    n = len(adj)\n",
    "    seen = [False] * n\n",
    "    def rec(start):\n",
    "        print(start)\n",
    "        for y in adj[start]:\n",
    "            if not seen[y]:\n",
    "                seen[y] = True\n",
    "                rec(y)\n",
    "    for start in range(n):\n",
    "        if(not seen[start]):\n",
    "            seen[start] = True\n",
    "            rec(start)\n",
    "            "
   ]
  },
  {
   "cell_type": "code",
   "execution_count": 6,
   "metadata": {},
   "outputs": [
    {
     "name": "stdout",
     "output_type": "stream",
     "text": [
      "0\n",
      "1\n",
      "2\n",
      "5\n",
      "4\n",
      "3\n",
      "6\n",
      "7\n"
     ]
    }
   ],
   "source": [
    "DFS(edges)"
   ]
  },
  {
   "cell_type": "code",
   "execution_count": 9,
   "metadata": {
    "collapsed": true
   },
   "outputs": [],
   "source": [
    "def DFSIter(adj):\n",
    "    n = len(adj)\n",
    "    seen = [False] * n\n",
    "    for start in range(n):\n",
    "        if seen[start]:\n",
    "            continue\n",
    "        stack = [(start, 0)]\n",
    "        while stack:\n",
    "            src, pos = stack.pop()\n",
    "            if pos == 0:\n",
    "                print(src)\n",
    "                seen[src] = True\n",
    "            if pos == len(adj[src]):\n",
    "                continue\n",
    "            stack.append((src,pos + 1))\n",
    "            succ  = adj[src][pos]\n",
    "            if not seen[succ]:\n",
    "                stack.append((succ,0))\n"
   ]
  },
  {
   "cell_type": "code",
   "execution_count": 10,
   "metadata": {},
   "outputs": [
    {
     "name": "stdout",
     "output_type": "stream",
     "text": [
      "0\n",
      "1\n",
      "2\n",
      "5\n",
      "4\n",
      "3\n",
      "6\n",
      "7\n"
     ]
    }
   ],
   "source": [
    "DFSIter(edges)"
   ]
  },
  {
   "cell_type": "markdown",
   "metadata": {},
   "source": [
    "# Breadth-First Search (BFS)\n",
    "## using a queue"
   ]
  },
  {
   "cell_type": "code",
   "execution_count": 38,
   "metadata": {
    "collapsed": true
   },
   "outputs": [],
   "source": [
    "def BFS(adj):  # θ(1)\n",
    "    n = len(adj) # θ(|v|)\n",
    "    seen = [False] * n # θ(|v|)\n",
    "    for start in  range(n): # θ(|v|)\n",
    "        if seen[start]: # O(|v|)\n",
    "            continue # O(|v|)\n",
    "        q = [start] # O(|v|)\n",
    "        seen[start] = True # O(|v|)\n",
    "        while q: # θ(|v|)\n",
    "            src = q.pop() # θ(|v|)\n",
    "            print(src) # θ(|v|)\n",
    "            for dst in adj[src]: # θ(|E|)\n",
    "                if not seen[dst]: # θ(|E|)\n",
    "                    q.append(dst) # O(|E|)\n",
    "                    seen[dst] = True # O(|E|)            "
   ]
  },
  {
   "cell_type": "code",
   "execution_count": 39,
   "metadata": {},
   "outputs": [
    {
     "name": "stdout",
     "output_type": "stream",
     "text": [
      "0\n",
      "3\n",
      "4\n",
      "5\n",
      "1\n",
      "2\n",
      "6\n",
      "7\n"
     ]
    }
   ],
   "source": [
    "BFS(edges)"
   ]
  },
  {
   "cell_type": "markdown",
   "metadata": {},
   "source": [
    "## 1)\n",
    "### θ(|v|² + |E|) = O(|v|²)\n",
    "### |E| <= (2 pris parmi |v|)  = |v|*(|v| -1) / 2 < |v|²/2\n",
    "### |E| = O (|v|²)\n",
    "## 2) Sur un graphe Connexe\n",
    "### |E| >= |v| - 1\n",
    "### |E| = Ώ(|v|)   ------> sur un graphe convex\n",
    "## 3)\n",
    "### sum(deg(v)) = 2|E| = θ(|E|)"
   ]
  },
  {
   "cell_type": "markdown",
   "metadata": {},
   "source": [
    "# Map of Distance"
   ]
  },
  {
   "cell_type": "code",
   "execution_count": 60,
   "metadata": {
    "collapsed": true
   },
   "outputs": [],
   "source": [
    "from collections import deque\n",
    "\n",
    "def distmap(adj, start):\n",
    "    n = len(adj) # θ(1)\n",
    "    dist = [None] * n #θ(|v|)\n",
    "    q = deque([start]) #θ(1)\n",
    "    dist[start] = 0 #θ(1)\n",
    "    while q: #O(|v|)\n",
    "        src = q.popleft() #O(|v|)\n",
    "        d = dist[src] #O(|v|)\n",
    "        for dst in adj[src]: #O(|E|)\n",
    "            if dist[dst] is None:#O(|E|)\n",
    "                dist[dst] = d + 1 #O(|E|)\n",
    "                q.append(dst)#O(|E|)\n",
    "    return dist #O(|E|) + #θ(|v|)"
   ]
  },
  {
   "cell_type": "code",
   "execution_count": 61,
   "metadata": {},
   "outputs": [
    {
     "data": {
      "text/plain": [
       "[0, 1, 2, 1, 2, 2, None, None]"
      ]
     },
     "execution_count": 61,
     "metadata": {},
     "output_type": "execute_result"
    }
   ],
   "source": [
    "distmap(edges, 0)"
   ]
  },
  {
   "cell_type": "markdown",
   "metadata": {},
   "source": [
    "# Dijkstra's algorithm\n",
    "## pseudo code"
   ]
  },
  {
   "cell_type": "raw",
   "metadata": {},
   "source": [
    "Dijkstra(G = (E,v,w), start):\n",
    "    ∀ v ∈ V, dist[v] = +inf\n",
    "    dist[start] = 0\n",
    "    h = [start]\n",
    "    while h:\n",
    "        src = h.popmin()\n",
    "        for dst ∈ sucessions(src):\n",
    "            d = dist[src] + w(src,dst)\n",
    "            old = dist[dst]\n",
    "            dist[dst]  = min(old, d)\n",
    "            if old = inf:\n",
    "                h.insert(dst)\n",
    "            else if old != dist[dst]:\n",
    "                h.update(dst)\n",
    "    return dist"
   ]
  },
  {
   "cell_type": "markdown",
   "metadata": {
    "collapsed": true
   },
   "source": [
    "# 22-02-17 Bellman-ford\n",
    "* approche de proggrammation dynamique\n",
    "    Calcul de la distance (1 source n dest) dans un graphe aux poids appartenant à |R\n",
    "\n",
    "Supposons que le chemin jaune soit PCC (plus court chemin) de 4 arrêtes\n",
    "pour relier D à 4. Alors nécessairement le chemin rouge est le PCC de  arrêtes pour relier s à x\n",
    "\n",
    "Notons Dk[x] la distance de s à x qui utilise au plus k arrêtes.\n",
    "Si le graphe est O=(V, E, w)\n",
    "Soit s la source des distances\n",
    "D1[t] = w(s,t)\n",
    "k appartient [2, |v| - 1],Dk[t] = min{ Dk-1[x] + w (x,t) | x appartient v}"
   ]
  },
  {
   "cell_type": "raw",
   "metadata": {},
   "source": [
    "BellmanFord1(G=(V,E,w), s appartient à v)\n",
    "    Pour tout x appartient à v D1[x] <- w(s,x)\n",
    "    for k <- 2 b |v|-1\n",
    "        for t appartient v\n",
    "            Dk[t] <- min(Dk-1[x] + w(x,t))\n",
    "    return D|v| - 1"
   ]
  },
  {
   "cell_type": "markdown",
   "metadata": {},
   "source": [
    "![Graph 2](graph2.png)\n",
    "\n",
    "|    | a | b | c   | d | e   |\n",
    "|----|---|---|-----|---|-----|\n",
    "| d1 | 0 | 4 | inf | 5 | inf |\n",
    "| d2 | 0 | 4 | 2   | 5 | 3   |\n",
    "| d3 | 0 | 4 | 2   | 3 | 3   |\n",
    "| d4 | 0 | 4 | 2   | 3 | 1   |\n"
   ]
  },
  {
   "cell_type": "markdown",
   "metadata": {},
   "source": [
    "### Opti 1\n",
    "ne pas essayer de  passer par x qui n'a pas un arc vers t"
   ]
  },
  {
   "cell_type": "raw",
   "metadata": {},
   "source": [
    "BellmanFord2 (G = (V,E,w), s appart. v)\n",
    "    pour tt x appart. v, D1[x] <- w(s,x)\n",
    "    for k <-2 | o |v| - 1 \n",
    "        Dk <- D_(k-1)\n",
    "        for(x,t) appart E\n",
    "            D_(k)[t] <- min(D_(k)[t], D_(k-1)[x] + w(x,t) )\n",
    "    return D_(|v|-1)"
   ]
  },
  {
   "cell_type": "markdown",
   "metadata": {},
   "source": [
    "### Opti 2"
   ]
  },
  {
   "cell_type": "raw",
   "metadata": {},
   "source": [
    "### On remplace D1, D_(k-1) et D_(k) par D\n",
    "\n",
    "Pour tt x appart v , D[x] <- w(s,x)\n",
    "    for k <- 2 to |v|-1\n",
    "        for(x,t) appart E\n",
    "            D[t] <- min (D[t] , D[x] + w(x,t))\n",
    "            return D\n",
    "        \n",
    "### attention D[x] utilise peut être plus que k arcs à l'iteration k\n",
    "\n",
    "### 3) arreter l'algo des qu'une iteration de k ne change pas D\n",
    "\n",
    "### attention si le graphe à des cycles de somme < 0 \n",
    "### D change toujours !\n",
    "                        "
   ]
  },
  {
   "cell_type": "raw",
   "metadata": {},
   "source": [
    "Pour tt x appart v, D[x] <- w(s,x)\n",
    "Pour tt x appart v, Father[x] <- s\n",
    "for k <- 2 to |v| - 1\n",
    "    for(x,t) appart E\n",
    "        p <- D[x] + w(x,t)\n",
    "        ...\n",
    "       "
   ]
  },
  {
   "cell_type": "raw",
   "metadata": {},
   "source": [
    "n sources vers n destinations\n",
    "    On veut une matrice des distances\n",
    "        D[s,t] = ?\n",
    "\n",
    "par prog-dyn\n",
    "    D1[s,t] = w(s,t)\n",
    "k appart [2, |v| - 1 ]  D_k[s,t] = min(D_(k-1)[s,x] + w(x,t))"
   ]
  },
  {
   "cell_type": "code",
   "execution_count": 4,
   "metadata": {
    "collapsed": true
   },
   "outputs": [],
   "source": [
    "def SlowDist(G):\n",
    "    D  = G.w\n",
    "    for k in range(2, G.v - 1):\n",
    "        for s in range(len(G.v)):\n",
    "            for t in range(len(G.v)):\n",
    "                D[k][s,t] =  min(D[k-1][s,x] + G.w(x,t))\n",
    "    return D[G.v -1]\n",
    "\n",
    "### really unsure about my copy of this algorithm"
   ]
  },
  {
   "cell_type": "markdown",
   "metadata": {},
   "source": [
    "### Floyd-warshall (https://en.wikipedia.org/wiki/Floyd%E2%80%93Warshall_algorithm)"
   ]
  },
  {
   "cell_type": "markdown",
   "metadata": {
    "collapsed": true
   },
   "source": [
    "# 3/08/17 Couplage\n",
    "* Problème 1\n",
    "    affectation de tâche\n",
    "* Problème 2\n",
    "    Armée multinationnale:\n",
    "    Les soldats parlent >= 1 langue\n",
    "    Il faut 2 soldats qui parlent la même langue pour conduire un tank\n",
    "    Maximiser le nombre de tank conduits.\n",
    "    \n",
    "Utilisation (https://en.wikipedia.org/wiki/Bipartite_graph)\n",
    "    \n",
    "### type de couplage:\n",
    "* Maximal : on ne peut plus lier de sommets\n",
    "* Maximum : maximal + il n'existe pas de meilleure configuration pour faire plus de liens\n",
    "![Couplage](couplage.png)\n",
    "\n",
    "\n",
    "### Couplage:\n",
    "* Def : Dans un graphe  G = (V,E), un couplage M inclu dans E  est un ensemble d'arrêtes tel que\n",
    "    M ne contient  pas 2 arrêtes voisines\n",
    "    \n"
   ]
  },
  {
   "cell_type": "markdown",
   "metadata": {},
   "source": [
    "* Def : Un couplage est parfait si les extremités des arrêtes de M couvrent V.\n",
    "implique |M| = |v|/2\n",
    "Pas de couplage parfait.\n",
    "\n",
    "* Def : Un sommet est libre s'il n'est l'extrémité d'aucune arrête de M. \n",
    "\n",
    "### Comment construire un couplage maximum ?\n",
    "* Donner un couplage maximal\n",
    "* Trouver des chemins améliorants en utilisant les noeuds libres.\n",
    "### Defs\n",
    "* def : Il existe un chemin améliorant ssi  le couplage n'est pas maximum.  \n",
    "(=>) Soit P un chemin améliorant, alors M'=M xor P possède une arrête de plus que M=>M pas maximum  \n",
    "(<=) On suppose M non maximum, soit M' un couplage maximum (|M'|>|M|)\n",
    "Considérons le graphe G'=(V, M xor M')  \n",
    "a) G' possède plus d'arrêtes de M' que de M  \n",
    "b) chaque sommet de G' touche au plus une arrête de M  \n",
    "\n",
    "Dans les composants de G' qui ne sont pas des sommets volés, Il existe nécéssairement ( à cause de a)) un composant avec plus d'arrêtes de M'.  \n",
    "Ce composant est un élément améliorant.  \n",
    "\n",
    "### Couplage maximum\n",
    "| M <- (ensemble vide)  \n",
    "| Tant qu'il existe un chemin élevant P  \n",
    "| | M <- M xor P  \n",
    "| return M  "
   ]
  },
  {
   "cell_type": "markdown",
   "metadata": {},
   "source": [
    "### ALGO d'Edmonds  : pour trouver un chemin améliorant.\n",
    "Entrée : G = (V,E), M appartient à E couplage  \n",
    "Sortie : P appartient E chemi améliorant, (vide) si pas de chemin améliorant\n",
    "* retirer les étiqettes \"[n,c,p]\" de tous les sommets\n",
    "* marquer toutes les arêtes comme non visités.\n",
    "* répéter au choix:  \n",
    "    (A) trouver un sommet libre v appartient à  V, lui donner l'étiquette [v, B, v]  \n",
    "    (B) trouver une arête non visitée (v,w) appartient à E, telle que v est étiquettée par [r,B,p]  \n",
    "        (1) Marquer comme visité\n",
    "        (2) si w est non étiqueté et libre alors: //on a un chemin améliorant\n",
    "            P <- chemin de r à w\n",
    "        (3) si w est non étiquetté et il existe x tq (w,x) appart. M\n",
    "            étiquetter w par [r,J,v]\n",
    "            et x par [r,B,w]\n",
    "        (4) si w a pour étiquette [s,B,q] avec q!=r\n",
    "                P <- chemin de r à v + (v,w) + le chemin  de w à s\n",
    "                break\n",
    "        (5) si w a pour étiquette [s,B,q] avec s=r\n",
    "            \"\"\"on a détecté un angle de taille impaire.\n",
    "            on retire tous sommets de ce cycle et on les remplace\n",
    "            par un nouveau sommet x. (le bourgeon) dans ce cycle.\n",
    "            On étiquette x par [r,B,p'] avec p' le parent de x \n",
    "         (6) --- voir photo ci dessous\n",
    "![Couplage](fin algo couplage.JPG)"
   ]
  },
  {
   "cell_type": "code",
   "execution_count": null,
   "metadata": {
    "collapsed": true
   },
   "outputs": [],
   "source": []
  }
 ],
 "metadata": {
  "kernelspec": {
   "display_name": "Python 3",
   "language": "python",
   "name": "python3"
  },
  "language_info": {
   "codemirror_mode": {
    "name": "ipython",
    "version": 3
   },
   "file_extension": ".py",
   "mimetype": "text/x-python",
   "name": "python",
   "nbconvert_exporter": "python",
   "pygments_lexer": "ipython3",
   "version": "3.5.4"
  }
 },
 "nbformat": 4,
 "nbformat_minor": 2
}
